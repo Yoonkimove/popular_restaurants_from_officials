{
 "cells": [
  {
   "cell_type": "markdown",
   "metadata": {
    "colab_type": "text",
    "id": "aTswgqvzbezC"
   },
   "source": [
    "# 시작하기 전에\n",
    "\n",
    "[부서별 집행 현황 데이터 바로가기](https://opengov.seoul.go.kr/expense?dept%5B%5D=%EC%84%9C%EC%9A%B8%EC%8B%9C%EB%B3%B8%EC%B2%AD&dept%5B%5D=%EC%A0%95%EB%AC%B4%EB%B6%80%EC%8B%9C%EC%9E%A5&year=2017&month=3)\n",
    "\n",
    "|   분류  | 내용 |\n",
    "| ------ | ----|\n",
    "|분석 목적 | 공무원 법카 사용 이력 분석을 통해 공무원이 자주 가는검증된 맛집을 알아내자|\n",
    "|   대상  | 1) 2017년 1년간 사용된 법인 카드 이력 중 <br> 2) 고위 공무원들이 주로 가는 <br> 3) 식당 (카페 불포함) |\n",
    "| 지도 이용 타겟 | 30~40대 경제력이 있고 접대 미팅등에 맞는 적당히 고급지고 퀄리티있는 맛집을 알고 싶어 하는 직장인 |\n",
    "\n",
    "\n",
    "서울 시청의 고위 공무원을 파악하기 위해 [서울시 조직도](http://namesearch-app.seoul.go.kr/main/images/contents/org_main.gif)를 참고해보자.\n",
    "\n",
    "![서울시 조직도](http://namesearch-app.seoul.go.kr/main/images/contents/org_main.gif)\n",
    "\n",
    "서울특별시장 > 대변인 ~ 시민감사옴부즈만위원회 (시장과 함께 간 곳) > 행정부시장 / 정무부시장 > 여성가족정책실~기술심사담당관 (부시장과 함께 간 곳) > 기획조정실~소방재난본부 순으로 살펴보면 좋겠다.\n",
    "\n",
    "\n",
    "**[세부 to do]**\n",
    "- tidy 할수 있는 기준을 전달함.\n",
    "- 대변인은 시장이 아니더라도 언론담당관이랑 같이 간 것까지 포함 한다 등\n",
    "- 레이블, 어떤 데이터를 포함하고 뺄 것인지 기준을 정하고 각 데이터 카테고리마다 정리해서 토요일까지 지윤님께 공유\n",
    "\n",
    "**[앞으로 일정]**\n",
    "- tidy 기준 지윤님께 토요일까지 공유\n",
    "- 크롤링한 걸 지윤님이 주말(토)중으로 넘겨주심 > tidy \n",
    "- 월까지 tidy 작업이 완료된 상태로 미팅하는 것\n",
    "- 집행일시 년/월/일로 나눔\n",
    "- 수요일 3시까지 이수역\n",
    "\n",
    "- 지금까지 나온 5개 식당 중에 가고 싶은 식당을 뽑아라 > 연령대별 설문조사 > \n"
   ]
  },
  {
   "cell_type": "markdown",
   "metadata": {
    "colab_type": "text",
    "id": "Z5CBWT6n4HDd"
   },
   "source": [
    "# Tidy data\n",
    "\n",
    "**[기준]**\n",
    "\n",
    "\n",
    "부서 | 1 분류 | 2분류|기준|이유\n",
    "-|-\n",
    "공통|||1) '도시락', '피자', '구내식당','매점','카페','커피' 키워드 제외 <br>2)  프랜차이즈 키워드 제외<br>3) 종로구 이외지역 제외 <br> 4) 집행목적 - '구매', '구입', '지급'가 들어간 데이터 제외 5) '격려'가 들어가고 앞에 '간담회' 키워드가 없는 경우 제외  6) 값 중 '-'가 들어갈 경우 제외| 맛집 기준 미충족\n",
    "서울시 본청 | 서울특별시장||1) 대상인원 - '시장'이 포함된 데이터 <br> 2) 구분 - '현업-우수부서 격려 등'은 삭제한다. <br> 단, 대상인원에 '시장'이 있을 경우 포함. | 맛집 기준 미충족\n",
    "|행정 1 부시장|| 1) 대상인원 - 행정2부시장이 포함된 데이터 <br> 2) 값 중 '-'가 들어갈 경우 제외|\n",
    "|행정 2 부시장|| 2) 대상인원 - '행정1부시장'이 포함된 데이터|\n",
    "|정무부시장|| 1) 대상인원 - 전부 |\n",
    "|대변인|언론담당관| 1) 대상인원 - 전부 |\n",
    "|서울혁신기획관|갈등조정담당관~<br>청년정책담당관|\n",
    "|감사위원회|\n",
    "\n",
    "프랜차이즈 : 맥도날드, 버거킹, 빚은, 피자에땅, 파리바게트, 옵스, 본도시락, 놀부보쌈, 폴바셋, 투썸플레이스, 탐앤탐스, 엔제리너스, 스타벅스, 커피빈, 미스터피자, \n",
    "\n",
    "* 추츨시 주의해야할 문제\n",
    "- 행정2부시장비서관 등 '행정2부시장'이 포함되었지만 실제 원하는 데이터가 아닌 경우 있으니 주의할 것.\n",
    "\n",
    "* 논의해봐야할 문제\n",
    "- 킴스패스(파스텔드나다)처럼 상호명과 카드내역(회사명)이 다른 경우가 있음. 어떻게 처리할 것인가?\n",
    "- "
   ]
  },
  {
   "cell_type": "markdown",
   "metadata": {
    "colab_type": "text",
    "id": "F8F8JlsAf7Qc"
   },
   "source": [
    "## 사전 준비"
   ]
  },
  {
   "cell_type": "code",
   "execution_count": 1,
   "metadata": {},
   "outputs": [
    {
     "name": "stderr",
     "output_type": "stream",
     "text": [
      "'apt'은(는) 내부 또는 외부 명령, 실행할 수 있는 프로그램, 또는\n",
      "배치 파일이 아닙니다.\n"
     ]
    },
    {
     "name": "stdout",
     "output_type": "stream",
     "text": [
      "Requirement already satisfied: plotnine in c:\\users\\jeeyun\\anaconda3\\lib\\site-packages (0.3.0)\n",
      "Requirement already satisfied: six in c:\\users\\jeeyun\\anaconda3\\lib\\site-packages (from plotnine) (1.11.0)\n",
      "Requirement already satisfied: mizani>=0.4.1 in c:\\users\\jeeyun\\anaconda3\\lib\\site-packages (from plotnine) (0.4.6)\n",
      "Requirement already satisfied: matplotlib>=2.1.0 in c:\\users\\jeeyun\\anaconda3\\lib\\site-packages (from plotnine) (2.2.2)\n",
      "Requirement already satisfied: numpy in c:\\users\\jeeyun\\anaconda3\\lib\\site-packages (from plotnine) (1.14.3)\n",
      "Requirement already satisfied: scipy>=1.0.0 in c:\\users\\jeeyun\\anaconda3\\lib\\site-packages (from plotnine) (1.1.0)\n",
      "Requirement already satisfied: patsy>=0.4.1 in c:\\users\\jeeyun\\anaconda3\\lib\\site-packages (from plotnine) (0.5.0)\n",
      "Requirement already satisfied: statsmodels>=0.8.0 in c:\\users\\jeeyun\\anaconda3\\lib\\site-packages (from plotnine) (0.9.0)\n",
      "Requirement already satisfied: pandas>=0.21.0 in c:\\users\\jeeyun\\anaconda3\\lib\\site-packages (from plotnine) (0.23.0)\n",
      "Requirement already satisfied: palettable in c:\\users\\jeeyun\\anaconda3\\lib\\site-packages (from mizani>=0.4.1->plotnine) (3.1.1)\n",
      "Requirement already satisfied: cycler>=0.10 in c:\\users\\jeeyun\\anaconda3\\lib\\site-packages (from matplotlib>=2.1.0->plotnine) (0.10.0)\n",
      "Requirement already satisfied: pyparsing!=2.0.4,!=2.1.2,!=2.1.6,>=2.0.1 in c:\\users\\jeeyun\\anaconda3\\lib\\site-packages (from matplotlib>=2.1.0->plotnine) (2.2.0)\n",
      "Requirement already satisfied: python-dateutil>=2.1 in c:\\users\\jeeyun\\anaconda3\\lib\\site-packages (from matplotlib>=2.1.0->plotnine) (2.7.3)\n",
      "Requirement already satisfied: pytz in c:\\users\\jeeyun\\anaconda3\\lib\\site-packages (from matplotlib>=2.1.0->plotnine) (2018.4)\n",
      "Requirement already satisfied: kiwisolver>=1.0.1 in c:\\users\\jeeyun\\anaconda3\\lib\\site-packages (from matplotlib>=2.1.0->plotnine) (1.0.1)\n",
      "Requirement already satisfied: setuptools in c:\\users\\jeeyun\\anaconda3\\lib\\site-packages (from kiwisolver>=1.0.1->matplotlib>=2.1.0->plotnine) (39.1.0)\n"
     ]
    },
    {
     "ename": "AttributeError",
     "evalue": "module 'matplotlib' has no attribute 'font_manager'",
     "output_type": "error",
     "traceback": [
      "\u001b[1;31m---------------------------------------------------------------------------\u001b[0m",
      "\u001b[1;31mAttributeError\u001b[0m                            Traceback (most recent call last)",
      "\u001b[1;32m<ipython-input-1-db417a05c96f>\u001b[0m in \u001b[0;36m<module>\u001b[1;34m()\u001b[0m\n\u001b[0;32m     12\u001b[0m \u001b[1;33m\u001b[0m\u001b[0m\n\u001b[0;32m     13\u001b[0m \u001b[1;32mimport\u001b[0m \u001b[0mmatplotlib\u001b[0m \u001b[1;32mas\u001b[0m \u001b[0mmpl\u001b[0m\u001b[1;33m\u001b[0m\u001b[0m\n\u001b[1;32m---> 14\u001b[1;33m \u001b[0mmpl\u001b[0m\u001b[1;33m.\u001b[0m\u001b[0mfont_manager\u001b[0m\u001b[1;33m.\u001b[0m\u001b[0m_rebuild\u001b[0m\u001b[1;33m(\u001b[0m\u001b[1;33m)\u001b[0m\u001b[1;33m\u001b[0m\u001b[0m\n\u001b[0m\u001b[0;32m     15\u001b[0m \u001b[0mmpl\u001b[0m\u001b[1;33m.\u001b[0m\u001b[0mpyplot\u001b[0m\u001b[1;33m.\u001b[0m\u001b[0mrc\u001b[0m\u001b[1;33m(\u001b[0m\u001b[1;34m'font'\u001b[0m\u001b[1;33m,\u001b[0m \u001b[0mfamily\u001b[0m\u001b[1;33m=\u001b[0m\u001b[1;34m'NanumGothic'\u001b[0m\u001b[1;33m)\u001b[0m\u001b[1;33m\u001b[0m\u001b[0m\n\u001b[0;32m     16\u001b[0m \u001b[1;33m\u001b[0m\u001b[0m\n",
      "\u001b[1;31mAttributeError\u001b[0m: module 'matplotlib' has no attribute 'font_manager'"
     ]
    }
   ],
   "source": [
    "!apt install fonts-nanum\n",
    "\n",
    "!pip install plotnine\n",
    "\n",
    "\n",
    "import pandas as pd\n",
    "import numpy as np\n",
    "import re\n",
    "\n",
    "import warnings\n",
    "warnings.filterwarnings(\"ignore\", 'This pattern has match groups')\n",
    "\n",
    "import matplotlib as mpl\n",
    "mpl.font_manager._rebuild()\n",
    "mpl.pyplot.rc('font', family='NanumGothic')\n",
    "\n",
    "%config InlineBackend.figure_format = 'retina'\n",
    "\n",
    "src = pd.read_csv('crawl_data.csv')"
   ]
  },
  {
   "cell_type": "code",
   "execution_count": 2,
   "metadata": {},
   "outputs": [
    {
     "ename": "NameError",
     "evalue": "name 'src' is not defined",
     "output_type": "error",
     "traceback": [
      "\u001b[1;31m---------------------------------------------------------------------------\u001b[0m",
      "\u001b[1;31mNameError\u001b[0m                                 Traceback (most recent call last)",
      "\u001b[1;32m<ipython-input-2-95767a74faef>\u001b[0m in \u001b[0;36m<module>\u001b[1;34m()\u001b[0m\n\u001b[1;32m----> 1\u001b[1;33m \u001b[0mdf\u001b[0m \u001b[1;33m=\u001b[0m \u001b[0msrc\u001b[0m\u001b[1;33m.\u001b[0m\u001b[0mcopy\u001b[0m\u001b[1;33m(\u001b[0m\u001b[1;33m)\u001b[0m\u001b[1;33m\u001b[0m\u001b[0m\n\u001b[0m\u001b[0;32m      2\u001b[0m \u001b[0mdf\u001b[0m\u001b[1;33m.\u001b[0m\u001b[0mhead\u001b[0m\u001b[1;33m(\u001b[0m\u001b[1;33m)\u001b[0m\u001b[1;33m\u001b[0m\u001b[0m\n\u001b[0;32m      3\u001b[0m \u001b[1;33m\u001b[0m\u001b[0m\n\u001b[0;32m      4\u001b[0m \u001b[1;31m# coulmns 순서 조정할 필요 있는지 논의.\u001b[0m\u001b[1;33m\u001b[0m\u001b[1;33m\u001b[0m\u001b[0m\n",
      "\u001b[1;31mNameError\u001b[0m: name 'src' is not defined"
     ]
    }
   ],
   "source": [
    "df = src.copy() \n",
    "df.head()\n",
    "\n",
    "# coulmns 순서 조정할 필요 있는지 논의."
   ]
  },
  {
   "cell_type": "markdown",
   "metadata": {},
   "source": [
    "## 불필요한 컬럼 제거하기\n",
    "\n",
    "year, month, day, time, 결제 방법은 맛집 지도 제작에 불필요할 것 같아 삭제합니다."
   ]
  },
  {
   "cell_type": "code",
   "execution_count": null,
   "metadata": {
    "scrolled": true
   },
   "outputs": [],
   "source": [
    "# 혹시 사용하게 될 수 있으니 각자 다른 변수에 담아 두겠습니다.\n",
    "\n",
    "date_year = df['year'].replace(',', '')\n",
    "date_month = df['month'].replace(',', '')\n",
    "date_day = df['day'].replace(',', '')\n",
    "date_time = df['time'].replace(',', '')\n",
    "payment = df['결제방법'].replace(',', '')\n",
    "\n",
    "# 불필요한 컬럼 제거\n",
    "\n",
    "df.drop(columns=['year', 'month','day', 'time', '결제방법'], inplace=True)\n",
    "\n",
    "df.head()"
   ]
  },
  {
   "cell_type": "markdown",
   "metadata": {},
   "source": [
    "## 데이터 살펴보기\n",
    "\n",
    "가장 많은 집행지는?"
   ]
  },
  {
   "cell_type": "code",
   "execution_count": null,
   "metadata": {},
   "outputs": [],
   "source": [
    "df['집행지명'].value_counts()"
   ]
  },
  {
   "cell_type": "markdown",
   "metadata": {},
   "source": [
    "## 데이터 클렌징\n",
    "\n",
    "공통 기준을 적용해줍니다.\n",
    "\n",
    "- '도시락','구내식당','매점','카페','커피' 키워드 제외 \n",
    "- 프랜차이즈 키워드 제외\n",
    "- 종로구 이외지역 제외 \n",
    "- 집행목적 - '구매', '구입', '지급'가 들어간 데이터 제외 \n",
    "- '격려'가 들어가고 앞에 '간담회' 키워드가 없는 경우 제외\n",
    "- 결측치 nan(-)이 있는 데이터 제외\n",
    "\n",
    "먼저 결측치를 제외합니다."
   ]
  },
  {
   "cell_type": "code",
   "execution_count": null,
   "metadata": {
    "scrolled": false
   },
   "outputs": [],
   "source": [
    "df.dropna(axis=0)"
   ]
  },
  {
   "cell_type": "code",
   "execution_count": null,
   "metadata": {},
   "outputs": [],
   "source": [
    "# 우선 공통 기준을 모두 패턴으로 저장합니다.\n",
    "\n",
    "# 제외 데이터\n",
    "name_pattern = r'(베이커리|카페|커피|도시락|구내식당|매점)'\n",
    "franc_pattern = r'(맥도날드|버거킹|빚은|피자에땅|파리바게트|옵스|본도시락|놀부보쌈|폴바셋|투썸플레이스|탐앤탐스|엔제리너스|스타벅스|커피빈|미스터피자|도미노피자)'\n",
    "content_pattern = r'(구매|구입|지급)'\n",
    "\n",
    "# 필터 데이터\n",
    "address_pattern = r'(중구|종로구)'"
   ]
  },
  {
   "cell_type": "code",
   "execution_count": null,
   "metadata": {},
   "outputs": [],
   "source": [
    "# 저장한 패턴과 일치하는 데이터를 출력하고 인덱스 모음을 출력합니다.\n",
    "# 전체 데이터에서 패턴과 일치하는 데이터를 인덱스를 기준으로 찾고 해당 행을 삭제합니다.\n",
    "\n",
    "name_drop = df.loc[df['집행지명'].str.contains(name_pattern) == True]\n",
    "name_drop_index = name_drop.index.values\n",
    "\n",
    "df = df.drop(name_drop_index)\n",
    "df"
   ]
  },
  {
   "cell_type": "code",
   "execution_count": null,
   "metadata": {
    "scrolled": false
   },
   "outputs": [],
   "source": [
    "franc_drop = df.loc[df['집행지명'].str.contains(franc_pattern) == True]\n",
    "franc_drop_index = franc_drop.index.values\n",
    "\n",
    "df = df.drop(franc_drop_index)\n",
    "df"
   ]
  },
  {
   "cell_type": "code",
   "execution_count": null,
   "metadata": {
    "scrolled": false
   },
   "outputs": [],
   "source": [
    "content_drop = df.loc[df['집행목적'].str.contains(content_pattern) == True]\n",
    "content_drop_index = content_drop.index.values\n",
    "\n",
    "df = df.drop(content_drop_index)\n",
    "df"
   ]
  },
  {
   "cell_type": "code",
   "execution_count": null,
   "metadata": {},
   "outputs": [],
   "source": [
    "# 제외 데이터가 잘 처리되었는데 점검!\n",
    "df['집행지명'].value_counts()"
   ]
  },
  {
   "cell_type": "code",
   "execution_count": null,
   "metadata": {},
   "outputs": [],
   "source": [
    "df = df.loc[df['집행지주소'].str.contains(address_pattern) == True]\n",
    "df"
   ]
  },
  {
   "cell_type": "code",
   "execution_count": null,
   "metadata": {},
   "outputs": [],
   "source": [
    "df['집행지명'].value_counts()"
   ]
  },
  {
   "cell_type": "code",
   "execution_count": null,
   "metadata": {},
   "outputs": [],
   "source": [
    "df.shape"
   ]
  },
  {
   "cell_type": "code",
   "execution_count": null,
   "metadata": {},
   "outputs": [],
   "source": []
  }
 ],
 "metadata": {
  "colab": {
   "collapsed_sections": [],
   "default_view": {},
   "name": "서울시업무추진비데이터.ipynb_지영",
   "provenance": [
    {
     "file_id": "1HbPM6PCIPLYWQGwLwGb-v9IKTbtEJh6X",
     "timestamp": 1532505132566
    }
   ],
   "version": "0.3.2",
   "views": {}
  },
  "kernelspec": {
   "display_name": "Python 3",
   "language": "python",
   "name": "python3"
  },
  "language_info": {
   "codemirror_mode": {
    "name": "ipython",
    "version": 3
   },
   "file_extension": ".py",
   "mimetype": "text/x-python",
   "name": "python",
   "nbconvert_exporter": "python",
   "pygments_lexer": "ipython3",
   "version": "3.6.5"
  }
 },
 "nbformat": 4,
 "nbformat_minor": 1
}
